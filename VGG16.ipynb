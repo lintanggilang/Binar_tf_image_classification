{
 "cells": [
  {
   "cell_type": "code",
   "execution_count": 1,
   "id": "3f3f8c00",
   "metadata": {},
   "outputs": [],
   "source": [
    "import pandas as pd\n",
    "import numpy as np\n",
    "\n",
    "from tensorflow.keras.applications import VGG16\n",
    "from tensorflow.keras.applications.vgg16 import decode_predictions\n",
    "\n",
    "from tensorflow.keras.preprocessing import image"
   ]
  },
  {
   "cell_type": "markdown",
   "id": "aba652c0",
   "metadata": {},
   "source": [
    "# Load Model VGG16"
   ]
  },
  {
   "cell_type": "code",
   "execution_count": 2,
   "id": "f4f50d57",
   "metadata": {},
   "outputs": [],
   "source": [
    "model = VGG16(weights='imagenet')"
   ]
  },
  {
   "cell_type": "markdown",
   "id": "53209e70",
   "metadata": {},
   "source": [
    "# Load Image and Prediction"
   ]
  },
  {
   "cell_type": "code",
   "execution_count": 3,
   "id": "08437198",
   "metadata": {},
   "outputs": [
    {
     "data": {
      "text/plain": [
       "[[('n04285008', 'sports_car', 0.45829907),\n",
       "  ('n04037443', 'racer', 0.4411208),\n",
       "  ('n03930630', 'pickup', 0.021285739),\n",
       "  ('n03100240', 'convertible', 0.019113868),\n",
       "  ('n02814533', 'beach_wagon', 0.017013866)]]"
      ]
     },
     "execution_count": 3,
     "metadata": {},
     "output_type": "execute_result"
    }
   ],
   "source": [
    "img = image.load_img('car.jpg', target_size=(224, 224))\n",
    "\n",
    "x = image.img_to_array(img)\n",
    "x = np.expand_dims(x, axis=0)\n",
    "\n",
    "images = np.vstack([x])\n",
    "\n",
    "predictions = model.predict(images)\n",
    "labels = decode_predictions(predictions)\n",
    "labels"
   ]
  },
  {
   "cell_type": "code",
   "execution_count": 4,
   "id": "70350aa8",
   "metadata": {},
   "outputs": [],
   "source": [
    "def df_pred(labels):\n",
    "    pred_image = []\n",
    "    pred_prob = []\n",
    "    for i in range(len(labels[0])):\n",
    "        pred_image.append(labels[0][i][1])\n",
    "        pred_prob.append(labels[0][i][2])    \n",
    "\n",
    "    df = pd.DataFrame()\n",
    "    df['pred_image'] = pred_image\n",
    "    df['pred_prob'] = pred_prob\n",
    "    return df"
   ]
  },
  {
   "cell_type": "code",
   "execution_count": 5,
   "id": "7a5b6b09",
   "metadata": {},
   "outputs": [
    {
     "data": {
      "text/html": [
       "<div>\n",
       "<style scoped>\n",
       "    .dataframe tbody tr th:only-of-type {\n",
       "        vertical-align: middle;\n",
       "    }\n",
       "\n",
       "    .dataframe tbody tr th {\n",
       "        vertical-align: top;\n",
       "    }\n",
       "\n",
       "    .dataframe thead th {\n",
       "        text-align: right;\n",
       "    }\n",
       "</style>\n",
       "<table border=\"1\" class=\"dataframe\">\n",
       "  <thead>\n",
       "    <tr style=\"text-align: right;\">\n",
       "      <th></th>\n",
       "      <th>pred_image</th>\n",
       "      <th>pred_prob</th>\n",
       "    </tr>\n",
       "  </thead>\n",
       "  <tbody>\n",
       "    <tr>\n",
       "      <th>0</th>\n",
       "      <td>sports_car</td>\n",
       "      <td>0.458299</td>\n",
       "    </tr>\n",
       "    <tr>\n",
       "      <th>1</th>\n",
       "      <td>racer</td>\n",
       "      <td>0.441121</td>\n",
       "    </tr>\n",
       "    <tr>\n",
       "      <th>2</th>\n",
       "      <td>pickup</td>\n",
       "      <td>0.021286</td>\n",
       "    </tr>\n",
       "    <tr>\n",
       "      <th>3</th>\n",
       "      <td>convertible</td>\n",
       "      <td>0.019114</td>\n",
       "    </tr>\n",
       "    <tr>\n",
       "      <th>4</th>\n",
       "      <td>beach_wagon</td>\n",
       "      <td>0.017014</td>\n",
       "    </tr>\n",
       "  </tbody>\n",
       "</table>\n",
       "</div>"
      ],
      "text/plain": [
       "    pred_image  pred_prob\n",
       "0   sports_car   0.458299\n",
       "1        racer   0.441121\n",
       "2       pickup   0.021286\n",
       "3  convertible   0.019114\n",
       "4  beach_wagon   0.017014"
      ]
     },
     "execution_count": 5,
     "metadata": {},
     "output_type": "execute_result"
    }
   ],
   "source": [
    "df_pred(labels)"
   ]
  },
  {
   "cell_type": "code",
   "execution_count": 6,
   "id": "4d38986a",
   "metadata": {},
   "outputs": [],
   "source": [
    "# model.summary()"
   ]
  },
  {
   "cell_type": "markdown",
   "id": "b2301d4b",
   "metadata": {},
   "source": [
    "# Save Model VGG16"
   ]
  },
  {
   "cell_type": "code",
   "execution_count": 7,
   "id": "c2abae95",
   "metadata": {},
   "outputs": [],
   "source": [
    "# filename = 'VGG16.h5'\n",
    "# model.save(filename)"
   ]
  },
  {
   "cell_type": "code",
   "execution_count": 8,
   "id": "a2c9afa3",
   "metadata": {},
   "outputs": [],
   "source": [
    "# from tensorflow.keras.models import load_model\n",
    "\n",
    "# loaded_model = load_model(r'VGG16.h5')"
   ]
  },
  {
   "cell_type": "code",
   "execution_count": 9,
   "id": "f2d45044",
   "metadata": {},
   "outputs": [],
   "source": [
    "# img = image.load_img('car.jpg', target_size=(224,224))\n",
    "# x = image.img_to_array(img)\n",
    "# x = np.expand_dims(x, axis=0)\n",
    "# images = np.vstack([x])\n",
    "# classes = loaded_model.predict(images, batch_size=10)\n",
    "# labels = decode_predictions(predictions)\n",
    "# df_pred(labels)"
   ]
  },
  {
   "cell_type": "code",
   "execution_count": 10,
   "id": "8a33762d",
   "metadata": {},
   "outputs": [],
   "source": [
    "#"
   ]
  },
  {
   "cell_type": "code",
   "execution_count": null,
   "id": "5e49e172",
   "metadata": {},
   "outputs": [],
   "source": []
  }
 ],
 "metadata": {
  "kernelspec": {
   "display_name": "Python 3 (ipykernel)",
   "language": "python",
   "name": "python3"
  },
  "language_info": {
   "codemirror_mode": {
    "name": "ipython",
    "version": 3
   },
   "file_extension": ".py",
   "mimetype": "text/x-python",
   "name": "python",
   "nbconvert_exporter": "python",
   "pygments_lexer": "ipython3",
   "version": "3.9.7"
  }
 },
 "nbformat": 4,
 "nbformat_minor": 5
}
