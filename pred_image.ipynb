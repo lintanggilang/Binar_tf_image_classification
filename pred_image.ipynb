{
 "cells": [
  {
   "cell_type": "code",
   "execution_count": 1,
   "id": "a69d3009-0c4c-4a91-b9fe-62a6b0c79a33",
   "metadata": {},
   "outputs": [],
   "source": [
    "from tensorflow.keras.models import load_model\n",
    "from keras.preprocessing.image import ImageDataGenerator, load_img, img_to_array\n",
    "from keras.preprocessing import image\n",
    "import matplotlib.pyplot as plt\n",
    "import numpy as np"
   ]
  },
  {
   "cell_type": "code",
   "execution_count": 2,
   "id": "60852445-8f85-44b6-b1c3-d778019b81b1",
   "metadata": {},
   "outputs": [],
   "source": [
    "loaded_model = load_model(r'model.h5')"
   ]
  },
  {
   "cell_type": "code",
   "execution_count": 3,
   "id": "ca633b51",
   "metadata": {},
   "outputs": [],
   "source": [
    "def pred_image(path_image):\n",
    "    img = image.load_img(path_image, target_size=(150,150))\n",
    "#     imgplot = plt.imshow(img)\n",
    "\n",
    "    x = image.img_to_array(img)\n",
    "    x = np.expand_dims(x, axis=0)\n",
    "    images = np.vstack([x])\n",
    "    classes = loaded_model.predict(images, batch_size=10)\n",
    "\n",
    "    return classes[0]"
   ]
  },
  {
   "cell_type": "code",
   "execution_count": 4,
   "id": "0adac089-88cb-4a1f-b2b8-5b28647c67dc",
   "metadata": {},
   "outputs": [],
   "source": [
    "def pred(classes):\n",
    "    if classes[0] == classes.max():\n",
    "        print('paper')\n",
    "    if classes[1] == classes.max():\n",
    "        print('rock')\n",
    "    if classes[2] == classes.max():\n",
    "        print('scissors')"
   ]
  },
  {
   "cell_type": "code",
   "execution_count": 5,
   "id": "b918e0ef",
   "metadata": {},
   "outputs": [
    {
     "name": "stdout",
     "output_type": "stream",
     "text": [
      "paper\n"
     ]
    }
   ],
   "source": [
    "path_image = r'Batu-Gunting-Kertas\\kertas.png'\n",
    "\n",
    "classes = pred_image(path_image)\n",
    "pred(classes)"
   ]
  },
  {
   "cell_type": "code",
   "execution_count": 6,
   "id": "cbe788fe",
   "metadata": {},
   "outputs": [
    {
     "name": "stdout",
     "output_type": "stream",
     "text": [
      "scissors\n"
     ]
    }
   ],
   "source": [
    "path_image = r'Batu-Gunting-Kertas\\batu.png'\n",
    "classes = pred_image(path_image)\n",
    "pred(classes)"
   ]
  },
  {
   "cell_type": "code",
   "execution_count": 7,
   "id": "af3a55fd",
   "metadata": {},
   "outputs": [
    {
     "name": "stdout",
     "output_type": "stream",
     "text": [
      "scissors\n"
     ]
    }
   ],
   "source": [
    "path_image = r'Batu-Gunting-Kertas\\gunting.png'\n",
    "classes = pred_image(path_image)\n",
    "pred(classes)"
   ]
  },
  {
   "cell_type": "code",
   "execution_count": null,
   "id": "55d79430",
   "metadata": {},
   "outputs": [],
   "source": []
  }
 ],
 "metadata": {
  "kernelspec": {
   "display_name": "Python 3 (ipykernel)",
   "language": "python",
   "name": "python3"
  },
  "language_info": {
   "codemirror_mode": {
    "name": "ipython",
    "version": 3
   },
   "file_extension": ".py",
   "mimetype": "text/x-python",
   "name": "python",
   "nbconvert_exporter": "python",
   "pygments_lexer": "ipython3",
   "version": "3.9.7"
  }
 },
 "nbformat": 4,
 "nbformat_minor": 5
}
