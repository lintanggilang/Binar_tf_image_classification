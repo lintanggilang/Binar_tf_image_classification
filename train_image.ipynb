{
 "cells": [
  {
   "cell_type": "code",
   "execution_count": 1,
   "id": "7da47db4-65fa-4562-8f93-01036811d7fb",
   "metadata": {},
   "outputs": [],
   "source": [
    "import tensorflow as tf\n",
    "from tensorflow.keras.optimizers import RMSprop\n",
    "from tensorflow.keras.preprocessing.image import ImageDataGenerator\n",
    "from tensorflow.keras.callbacks import EarlyStopping\n",
    "\n",
    "import matplotlib.pyplot as plt\n",
    "\n",
    "import os"
   ]
  },
  {
   "cell_type": "markdown",
   "id": "1ba0d010",
   "metadata": {},
   "source": [
    "# Deklarasi folder data train"
   ]
  },
  {
   "cell_type": "code",
   "execution_count": 2,
   "id": "15b0ce36-3115-4ce3-92ff-13f4b5edf019",
   "metadata": {},
   "outputs": [
    {
     "data": {
      "text/plain": [
       "['paper', 'rock', 'scissors']"
      ]
     },
     "execution_count": 2,
     "metadata": {},
     "output_type": "execute_result"
    }
   ],
   "source": [
    "base_dir = r'Batu-Gunting-Kertas\\Train'\n",
    "\n",
    "os.listdir(base_dir)"
   ]
  },
  {
   "cell_type": "markdown",
   "id": "9a938010",
   "metadata": {},
   "source": [
    "# Call Image Data Generator for data Train"
   ]
  },
  {
   "cell_type": "code",
   "execution_count": 3,
   "id": "f17b8914-4311-4f81-bd4e-f1ec9ec8e3aa",
   "metadata": {},
   "outputs": [],
   "source": [
    "train_datagen = ImageDataGenerator(\n",
    "                    rescale=1./255,\n",
    "                    rotation_range=20,\n",
    "                    horizontal_flip=True,\n",
    "                    shear_range = 0.2,\n",
    "                    fill_mode = 'nearest',\n",
    "                    validation_split=0.4)"
   ]
  },
  {
   "cell_type": "markdown",
   "id": "b2594dd7",
   "metadata": {},
   "source": [
    "# Split Dataset to Train Data"
   ]
  },
  {
   "cell_type": "code",
   "execution_count": 4,
   "id": "a522cc0a-086b-4d32-b4b5-9de80b67cf3f",
   "metadata": {},
   "outputs": [
    {
     "name": "stdout",
     "output_type": "stream",
     "text": [
      "Found 1314 images belonging to 3 classes.\n"
     ]
    }
   ],
   "source": [
    "train_generator = train_datagen.flow_from_directory(\n",
    "        base_dir,  \n",
    "        target_size=(224, 224),\n",
    "        batch_size=32,\n",
    "        shuffle=True,\n",
    "        subset=\"training\")"
   ]
  },
  {
   "cell_type": "markdown",
   "id": "5a8cd1b4",
   "metadata": {},
   "source": [
    "# Split Dataset to Val Data"
   ]
  },
  {
   "cell_type": "code",
   "execution_count": 5,
   "id": "d45a3a7d-386f-4fe0-8620-497be1b55cbf",
   "metadata": {},
   "outputs": [
    {
     "name": "stdout",
     "output_type": "stream",
     "text": [
      "Found 874 images belonging to 3 classes.\n"
     ]
    }
   ],
   "source": [
    "validation_generator = train_datagen.flow_from_directory(\n",
    "        base_dir, \n",
    "        target_size=(224, 224), \n",
    "        batch_size=32,\n",
    "        shuffle=True,\n",
    "        subset=\"validation\")"
   ]
  },
  {
   "cell_type": "markdown",
   "id": "8e22f9d1",
   "metadata": {},
   "source": [
    "# Deklarasi folder data test"
   ]
  },
  {
   "cell_type": "code",
   "execution_count": 6,
   "id": "900bf0fe-0d72-493c-9ad1-0d17f377a408",
   "metadata": {},
   "outputs": [
    {
     "data": {
      "text/plain": [
       "['paper', 'rock', 'scissors']"
      ]
     },
     "execution_count": 6,
     "metadata": {},
     "output_type": "execute_result"
    }
   ],
   "source": [
    "base_dir_test = r'Batu-Gunting-Kertas\\Test'\n",
    "\n",
    "os.listdir(base_dir_test)"
   ]
  },
  {
   "cell_type": "markdown",
   "id": "07101834",
   "metadata": {},
   "source": [
    "# Call Image Data Generator for data test"
   ]
  },
  {
   "cell_type": "code",
   "execution_count": 7,
   "id": "8e8c17e0-05a9-40ec-9eba-9ff3132a5c98",
   "metadata": {},
   "outputs": [
    {
     "name": "stdout",
     "output_type": "stream",
     "text": [
      "Found 2188 images belonging to 3 classes.\n"
     ]
    }
   ],
   "source": [
    "test_generator = train_datagen.flow_from_directory(\n",
    "        base_dir_test, \n",
    "        target_size=(224, 224), \n",
    "        batch_size=32,\n",
    "        shuffle=True)"
   ]
  },
  {
   "cell_type": "markdown",
   "id": "1c9184fd",
   "metadata": {},
   "source": [
    "# Calls the function model to be used"
   ]
  },
  {
   "cell_type": "code",
   "execution_count": 8,
   "id": "c7d1b4d1-8555-4bd9-b7a3-4812a4123617",
   "metadata": {},
   "outputs": [],
   "source": [
    "model = tf.keras.models.Sequential([\n",
    "    tf.keras.layers.Conv2D(512, (3,3), activation='relu', input_shape=(224, 224, 3)),\n",
    "    tf.keras.layers.MaxPooling2D(2, 2),\n",
    "    \n",
    "    tf.keras.layers.Flatten(),\n",
    "    \n",
    "    tf.keras.layers.Dense(32, activation='relu'),\n",
    "    tf.keras.layers.Dense(32, activation='relu'),\n",
    "    \n",
    "    tf.keras.layers.Dense(3, activation='softmax')  \n",
    "])"
   ]
  },
  {
   "cell_type": "markdown",
   "id": "6033d9e5",
   "metadata": {},
   "source": [
    "# Call EarlyStopping"
   ]
  },
  {
   "cell_type": "code",
   "execution_count": 9,
   "id": "eb2f8c57",
   "metadata": {},
   "outputs": [],
   "source": [
    "class myCallback(tf.keras.callbacks.Callback):\n",
    "    def on_epoch_end(self, epoch, logs={}):\n",
    "        if(logs.get('val_categorical_accuracy') > 0.80 ):\n",
    "            self.model.stop_training = True\n",
    "\n",
    "callbacks = myCallback()"
   ]
  },
  {
   "cell_type": "markdown",
   "id": "9737e857",
   "metadata": {},
   "source": [
    "# Call optimizer for model"
   ]
  },
  {
   "cell_type": "code",
   "execution_count": 10,
   "id": "08bd3976-5ace-485d-8117-652034d9106d",
   "metadata": {},
   "outputs": [],
   "source": [
    "model.compile(loss='categorical_crossentropy',\n",
    "              optimizer=tf.optimizers.Adam(),\n",
    "              metrics=['categorical_accuracy'])"
   ]
  },
  {
   "cell_type": "markdown",
   "id": "d96f0361",
   "metadata": {},
   "source": [
    "# Train the data \n",
    "\n",
    "using train_generator and validation_generator with callbacks = early_stops"
   ]
  },
  {
   "cell_type": "code",
   "execution_count": 11,
   "id": "b08604d2-fe64-4bdb-b93e-86a11ed2014b",
   "metadata": {},
   "outputs": [
    {
     "name": "stdout",
     "output_type": "stream",
     "text": [
      "Epoch 1/20\n",
      "42/42 [==============================] - 832s 20s/step - loss: 1.1073 - categorical_accuracy: 0.4597 - val_loss: 0.7986 - val_categorical_accuracy: 0.7357\n",
      "Epoch 2/20\n",
      "42/42 [==============================] - 821s 20s/step - loss: 0.7371 - categorical_accuracy: 0.7040 - val_loss: 0.6234 - val_categorical_accuracy: 0.7620\n",
      "Epoch 3/20\n",
      "42/42 [==============================] - 818s 20s/step - loss: 0.5922 - categorical_accuracy: 0.7664 - val_loss: 0.5927 - val_categorical_accuracy: 0.7723\n",
      "Epoch 4/20\n",
      "42/42 [==============================] - 818s 20s/step - loss: 0.4594 - categorical_accuracy: 0.8409 - val_loss: 0.4752 - val_categorical_accuracy: 0.8307\n",
      "Wall time: 54min 50s\n"
     ]
    }
   ],
   "source": [
    "%%time\n",
    "fit = model.fit(\n",
    "      train_generator,\n",
    "      epochs=20,\n",
    "      validation_data=validation_generator,\n",
    "      callbacks=[callbacks]\n",
    ")"
   ]
  },
  {
   "cell_type": "markdown",
   "id": "bf024a95",
   "metadata": {},
   "source": [
    "# Evaluate"
   ]
  },
  {
   "cell_type": "code",
   "execution_count": 12,
   "id": "c0ff8fe3-3ae3-4ae9-8cbf-a12943fa4e66",
   "metadata": {},
   "outputs": [
    {
     "name": "stdout",
     "output_type": "stream",
     "text": [
      "16/16 [==============================] - 84s 5s/step - loss: 0.4642 - categorical_accuracy: 0.8223\n",
      "16/16 [==============================] - 85s 5s/step - loss: 0.4274 - categorical_accuracy: 0.8438\n",
      "16/16 [==============================] - 85s 5s/step - loss: 0.5128 - categorical_accuracy: 0.8066\n",
      "\n",
      "Train: 0.822, val: 0.844, test: 0.807,\n"
     ]
    }
   ],
   "source": [
    "train_loss, train_acc = model.evaluate(train_generator, steps=16)\n",
    "validation_loss, val_acc = model.evaluate(validation_generator, steps=16)\n",
    "test_loss, test_acc = model.evaluate(test_generator, steps=16)\n",
    "\n",
    "print('\\nTrain: %.3f, val: %.3f, test: %.3f,' % (train_acc, val_acc, test_acc))"
   ]
  },
  {
   "cell_type": "code",
   "execution_count": 13,
   "id": "7d0d3248-c31f-4664-b811-513254d785fa",
   "metadata": {},
   "outputs": [
    {
     "data": {
      "image/png": "[encoded data removed]",
      "text/plain": [
       "<Figure size 432x288 with 1 Axes>"
      ]
     },
     "metadata": {
      "needs_background": "light"
     },
     "output_type": "display_data"
    }
   ],
   "source": [
    "plt.plot(fit.history['categorical_accuracy'], label='train')\n",
    "plt.plot(fit.history['val_categorical_accuracy'], label='val')\n",
    "plt.legend()\n",
    "plt.show()"
   ]
  },
  {
   "cell_type": "code",
   "execution_count": 14,
   "id": "6de18842-04d8-4041-8ecb-2f5f162cd84d",
   "metadata": {},
   "outputs": [
    {
     "data": {
      "image/png": "[encoded data removed]",
      "text/plain": [
       "<Figure size 432x288 with 1 Axes>"
      ]
     },
     "metadata": {
      "needs_background": "light"
     },
     "output_type": "display_data"
    }
   ],
   "source": [
    "plt.plot(fit.history['loss'], label='train')\n",
    "plt.plot(fit.history['val_loss'], label='val')\n",
    "plt.legend()\n",
    "plt.show()"
   ]
  },
  {
   "cell_type": "markdown",
   "id": "267a762b",
   "metadata": {},
   "source": [
    "# Save model"
   ]
  },
  {
   "cell_type": "code",
   "execution_count": 15,
   "id": "50c09174-82ed-49c9-830c-c24eae7f0158",
   "metadata": {},
   "outputs": [],
   "source": [
    "filename = 'model.h5'\n",
    "model.save(filename)"
   ]
  },
  {
   "cell_type": "code",
   "execution_count": null,
   "id": "55072e2b-0dc2-40ed-9cf5-e67729c8ff17",
   "metadata": {},
   "outputs": [],
   "source": []
  }
 ],
 "metadata": {
  "kernelspec": {
   "display_name": "Python 3 (ipykernel)",
   "language": "python",
   "name": "python3"
  },
  "language_info": {
   "codemirror_mode": {
    "name": "ipython",
    "version": 3
   },
   "file_extension": ".py",
   "mimetype": "text/x-python",
   "name": "python",
   "nbconvert_exporter": "python",
   "pygments_lexer": "ipython3",
   "version": "3.9.7"
  }
 },
 "nbformat": 4,
 "nbformat_minor": 5
}
