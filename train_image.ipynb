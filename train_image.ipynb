{
 "cells": [
  {
   "cell_type": "code",
   "execution_count": 1,
   "id": "7da47db4-65fa-4562-8f93-01036811d7fb",
   "metadata": {},
   "outputs": [],
   "source": [
    "import tensorflow as tf\n",
    "from tensorflow.keras.optimizers import RMSprop\n",
    "from tensorflow.keras.preprocessing.image import ImageDataGenerator\n",
    "from tensorflow.keras.callbacks import EarlyStopping\n",
    "\n",
    "import matplotlib.pyplot as plt\n",
    "\n",
    "import os"
   ]
  },
  {
   "cell_type": "markdown",
   "id": "1ba0d010",
   "metadata": {},
   "source": [
    "# Deklarasi folder data"
   ]
  },
  {
   "cell_type": "code",
   "execution_count": 2,
   "id": "15b0ce36-3115-4ce3-92ff-13f4b5edf019",
   "metadata": {},
   "outputs": [
    {
     "data": {
      "text/plain": [
       "['paper', 'rock', 'scissors']"
      ]
     },
     "execution_count": 2,
     "metadata": {},
     "output_type": "execute_result"
    }
   ],
   "source": [
    "# base_dir = r'D:\\Kerja\\Data Python\\Batu-Gunting-Kertas\\Train'\n",
    "base_dir = r'Batu-Gunting-Kertas\\Train'\n",
    "\n",
    "os.listdir(base_dir)"
   ]
  },
  {
   "cell_type": "code",
   "execution_count": 3,
   "id": "900bf0fe-0d72-493c-9ad1-0d17f377a408",
   "metadata": {},
   "outputs": [
    {
     "data": {
      "text/plain": [
       "['paper', 'rock', 'scissors']"
      ]
     },
     "execution_count": 3,
     "metadata": {},
     "output_type": "execute_result"
    }
   ],
   "source": [
    "# base_dir_test = r'D:\\Kerja\\Data Python\\Batu-Gunting-Kertas\\Test'\n",
    "base_dir_test = r'Batu-Gunting-Kertas\\Test'\n",
    "\n",
    "os.listdir(base_dir_test)"
   ]
  },
  {
   "cell_type": "markdown",
   "id": "9a938010",
   "metadata": {},
   "source": [
    "# Call Image Data Generator"
   ]
  },
  {
   "cell_type": "code",
   "execution_count": 4,
   "id": "f17b8914-4311-4f81-bd4e-f1ec9ec8e3aa",
   "metadata": {},
   "outputs": [],
   "source": [
    "train_datagen = ImageDataGenerator(\n",
    "                    rescale=1./255,\n",
    "                    rotation_range=20,\n",
    "                    horizontal_flip=True,\n",
    "                    shear_range = 0.2,\n",
    "                    fill_mode = 'nearest',\n",
    "                    validation_split=0.4)"
   ]
  },
  {
   "cell_type": "markdown",
   "id": "b2594dd7",
   "metadata": {},
   "source": [
    "# Split Dataset to Train Data"
   ]
  },
  {
   "cell_type": "code",
   "execution_count": 5,
   "id": "a522cc0a-086b-4d32-b4b5-9de80b67cf3f",
   "metadata": {},
   "outputs": [
    {
     "name": "stdout",
     "output_type": "stream",
     "text": [
      "Found 1314 images belonging to 3 classes.\n"
     ]
    }
   ],
   "source": [
    "train_generator = train_datagen.flow_from_directory(\n",
    "        base_dir,  \n",
    "        target_size=(150, 150),\n",
    "        batch_size=32,\n",
    "        shuffle=True,\n",
    "        subset=\"training\")"
   ]
  },
  {
   "cell_type": "markdown",
   "id": "5a8cd1b4",
   "metadata": {},
   "source": [
    "# Split Dataset to Val Data"
   ]
  },
  {
   "cell_type": "code",
   "execution_count": 6,
   "id": "d45a3a7d-386f-4fe0-8620-497be1b55cbf",
   "metadata": {},
   "outputs": [
    {
     "name": "stdout",
     "output_type": "stream",
     "text": [
      "Found 874 images belonging to 3 classes.\n"
     ]
    }
   ],
   "source": [
    "validation_generator = train_datagen.flow_from_directory(\n",
    "        base_dir, \n",
    "        target_size=(150, 150), \n",
    "        batch_size=32,\n",
    "        shuffle=True,\n",
    "        subset=\"validation\")"
   ]
  },
  {
   "cell_type": "markdown",
   "id": "07101834",
   "metadata": {},
   "source": [
    "# Split Dataset to Test Data"
   ]
  },
  {
   "cell_type": "code",
   "execution_count": 7,
   "id": "8e8c17e0-05a9-40ec-9eba-9ff3132a5c98",
   "metadata": {},
   "outputs": [
    {
     "name": "stdout",
     "output_type": "stream",
     "text": [
      "Found 2188 images belonging to 3 classes.\n"
     ]
    }
   ],
   "source": [
    "test_generator = train_datagen.flow_from_directory(\n",
    "        base_dir_test, \n",
    "        target_size=(150, 150), \n",
    "        batch_size=32,\n",
    "        shuffle=True)"
   ]
  },
  {
   "cell_type": "markdown",
   "id": "1c9184fd",
   "metadata": {},
   "source": [
    "# Calls the function model to be used"
   ]
  },
  {
   "cell_type": "code",
   "execution_count": 8,
   "id": "c7d1b4d1-8555-4bd9-b7a3-4812a4123617",
   "metadata": {},
   "outputs": [],
   "source": [
    "model = tf.keras.models.Sequential([\n",
    "    tf.keras.layers.Conv2D(32, (3,3), activation='relu', input_shape=(150, 150, 3)),\n",
    "    tf.keras.layers.MaxPooling2D(2, 2),\n",
    "    \n",
    "    # tf.keras.layers.Conv2D(64, (3,3), activation='relu'),\n",
    "    # tf.keras.layers.MaxPooling2D(2,2),\n",
    "    \n",
    "    # tf.keras.layers.Conv2D(128, (3,3), activation='relu'),\n",
    "    # tf.keras.layers.MaxPooling2D(2,2),\n",
    "    \n",
    "    tf.keras.layers.Flatten(),\n",
    "    \n",
    "    tf.keras.layers.Dense(64, activation='relu'),\n",
    "    # tf.keras.layers.Dropout(0.1),\n",
    "    # tf.keras.layers.BatchNormalization(),\n",
    "    \n",
    "    tf.keras.layers.Dense(64, activation='relu'),\n",
    "    # tf.keras.layers.Dropout(0.1),\n",
    "    # tf.keras.layers.BatchNormalization(),\n",
    "    \n",
    "    tf.keras.layers.Dense(32, activation='relu'),\n",
    "    # tf.keras.layers.Dropout(0.1),\n",
    "    # tf.keras.layers.BatchNormalization(),\n",
    "    \n",
    "    tf.keras.layers.Dense(32, activation='relu'),\n",
    "    # tf.keras.layers.Dropout(0.1),\n",
    "    # tf.keras.layers.BatchNormalization(),\n",
    "    \n",
    "    tf.keras.layers.Dense(16, activation='relu'),\n",
    "    # tf.keras.layers.Dropout(0.1),\n",
    "    # tf.keras.layers.BatchNormalization(),\n",
    "\n",
    "    tf.keras.layers.Dense(16, activation='relu'),\n",
    "    # tf.keras.layers.Dropout(0.1),\n",
    "    # tf.keras.layers.BatchNormalization(),    \n",
    "    \n",
    "    tf.keras.layers.Dense(3, activation='softmax')\n",
    "    # tf.keras.layers.Dense(2, activation='sigmoid')    \n",
    "])"
   ]
  },
  {
   "cell_type": "markdown",
   "id": "6033d9e5",
   "metadata": {},
   "source": [
    "# Call EarlyStopping"
   ]
  },
  {
   "cell_type": "code",
   "execution_count": 9,
   "id": "84dd4630-b3ad-4cb5-a922-f7f73c2815ab",
   "metadata": {},
   "outputs": [],
   "source": [
    "early_stop = EarlyStopping(monitor='val_accuracy', min_delta=0, patience=10,verbose=2, mode='auto')"
   ]
  },
  {
   "cell_type": "markdown",
   "id": "9737e857",
   "metadata": {},
   "source": [
    "# Call optimizer for model"
   ]
  },
  {
   "cell_type": "code",
   "execution_count": 10,
   "id": "08bd3976-5ace-485d-8117-652034d9106d",
   "metadata": {},
   "outputs": [],
   "source": [
    "model.compile(loss='categorical_crossentropy',\n",
    "              optimizer=tf.optimizers.Adam(),\n",
    "              metrics=['accuracy'])"
   ]
  },
  {
   "cell_type": "markdown",
   "id": "d96f0361",
   "metadata": {},
   "source": [
    "# Train the data \n",
    "\n",
    "using train_generator and validation_generator with callbacks = early_stops"
   ]
  },
  {
   "cell_type": "code",
   "execution_count": 11,
   "id": "b08604d2-fe64-4bdb-b93e-86a11ed2014b",
   "metadata": {},
   "outputs": [
    {
     "name": "stdout",
     "output_type": "stream",
     "text": [
      "Epoch 1/100\n",
      "42/42 [==============================] - 74s 2s/step - loss: 1.0952 - accuracy: 0.4277 - val_loss: 1.0599 - val_accuracy: 0.3970\n",
      "Epoch 2/100\n",
      "42/42 [==============================] - 21s 492ms/step - loss: 0.8243 - accuracy: 0.6332 - val_loss: 0.7304 - val_accuracy: 0.6842\n",
      "Epoch 3/100\n",
      "42/42 [==============================] - 21s 508ms/step - loss: 0.6980 - accuracy: 0.6986 - val_loss: 0.6847 - val_accuracy: 0.7586\n",
      "Epoch 4/100\n",
      "42/42 [==============================] - 22s 518ms/step - loss: 0.6048 - accuracy: 0.7542 - val_loss: 0.5036 - val_accuracy: 0.8101\n",
      "Epoch 5/100\n",
      "42/42 [==============================] - 22s 515ms/step - loss: 0.4607 - accuracy: 0.8189 - val_loss: 0.4146 - val_accuracy: 0.8284\n",
      "Epoch 6/100\n",
      "42/42 [==============================] - 22s 516ms/step - loss: 0.3512 - accuracy: 0.8607 - val_loss: 0.3246 - val_accuracy: 0.8890\n",
      "Epoch 7/100\n",
      "42/42 [==============================] - 22s 515ms/step - loss: 0.3121 - accuracy: 0.8927 - val_loss: 0.3136 - val_accuracy: 0.8844\n",
      "Epoch 8/100\n",
      "42/42 [==============================] - 21s 509ms/step - loss: 0.2479 - accuracy: 0.9094 - val_loss: 0.2511 - val_accuracy: 0.9188\n",
      "Epoch 9/100\n",
      "42/42 [==============================] - 21s 502ms/step - loss: 0.2051 - accuracy: 0.9254 - val_loss: 0.2198 - val_accuracy: 0.9176\n",
      "Epoch 10/100\n",
      "42/42 [==============================] - 22s 521ms/step - loss: 0.1650 - accuracy: 0.9361 - val_loss: 0.3575 - val_accuracy: 0.8638\n",
      "Epoch 11/100\n",
      "42/42 [==============================] - 22s 521ms/step - loss: 0.2287 - accuracy: 0.9117 - val_loss: 0.1655 - val_accuracy: 0.9416\n",
      "Epoch 12/100\n",
      "42/42 [==============================] - 21s 504ms/step - loss: 0.1392 - accuracy: 0.9482 - val_loss: 0.1813 - val_accuracy: 0.9416\n",
      "Epoch 13/100\n",
      "42/42 [==============================] - 21s 510ms/step - loss: 0.1427 - accuracy: 0.9498 - val_loss: 0.1904 - val_accuracy: 0.9371\n",
      "Epoch 14/100\n",
      "42/42 [==============================] - 21s 503ms/step - loss: 0.1295 - accuracy: 0.9551 - val_loss: 0.1566 - val_accuracy: 0.9451\n",
      "Epoch 15/100\n",
      "42/42 [==============================] - 22s 529ms/step - loss: 0.0911 - accuracy: 0.9711 - val_loss: 0.1767 - val_accuracy: 0.9462\n",
      "Epoch 16/100\n",
      "42/42 [==============================] - 22s 526ms/step - loss: 0.2066 - accuracy: 0.9186 - val_loss: 0.3386 - val_accuracy: 0.8696\n",
      "Epoch 17/100\n",
      "42/42 [==============================] - 22s 516ms/step - loss: 0.1543 - accuracy: 0.9505 - val_loss: 0.1491 - val_accuracy: 0.9462\n",
      "Epoch 18/100\n",
      "42/42 [==============================] - 22s 532ms/step - loss: 0.1003 - accuracy: 0.9650 - val_loss: 0.1735 - val_accuracy: 0.9474\n",
      "Epoch 19/100\n",
      "42/42 [==============================] - 21s 515ms/step - loss: 0.0798 - accuracy: 0.9764 - val_loss: 0.1232 - val_accuracy: 0.9531\n",
      "Epoch 20/100\n",
      "42/42 [==============================] - 21s 498ms/step - loss: 0.0845 - accuracy: 0.9711 - val_loss: 0.1588 - val_accuracy: 0.9336\n",
      "Epoch 21/100\n",
      "42/42 [==============================] - 21s 511ms/step - loss: 0.0640 - accuracy: 0.9795 - val_loss: 0.1211 - val_accuracy: 0.9485\n",
      "Epoch 22/100\n",
      "42/42 [==============================] - 21s 504ms/step - loss: 0.0734 - accuracy: 0.9726 - val_loss: 0.1675 - val_accuracy: 0.9405\n",
      "Epoch 23/100\n",
      "42/42 [==============================] - 22s 526ms/step - loss: 0.0501 - accuracy: 0.9817 - val_loss: 0.1330 - val_accuracy: 0.9634\n",
      "Epoch 24/100\n",
      "42/42 [==============================] - 22s 514ms/step - loss: 0.1621 - accuracy: 0.9452 - val_loss: 0.2517 - val_accuracy: 0.9211\n",
      "Epoch 25/100\n",
      "42/42 [==============================] - 22s 515ms/step - loss: 0.0907 - accuracy: 0.9650 - val_loss: 0.1590 - val_accuracy: 0.9508\n",
      "Epoch 26/100\n",
      "42/42 [==============================] - 22s 529ms/step - loss: 0.0811 - accuracy: 0.9741 - val_loss: 0.1578 - val_accuracy: 0.9519\n",
      "Epoch 27/100\n",
      "42/42 [==============================] - 22s 514ms/step - loss: 0.0650 - accuracy: 0.9779 - val_loss: 0.1886 - val_accuracy: 0.9382\n",
      "Epoch 28/100\n",
      "42/42 [==============================] - 21s 506ms/step - loss: 0.0895 - accuracy: 0.9711 - val_loss: 0.1672 - val_accuracy: 0.9462\n",
      "Epoch 29/100\n",
      "42/42 [==============================] - 21s 511ms/step - loss: 0.0767 - accuracy: 0.9726 - val_loss: 0.1160 - val_accuracy: 0.9554\n",
      "Epoch 30/100\n",
      "42/42 [==============================] - 41s 981ms/step - loss: 0.0832 - accuracy: 0.9703 - val_loss: 0.1384 - val_accuracy: 0.9508\n",
      "Epoch 31/100\n",
      "42/42 [==============================] - 20s 481ms/step - loss: 0.1257 - accuracy: 0.9627 - val_loss: 0.1558 - val_accuracy: 0.9451\n",
      "Epoch 32/100\n",
      "42/42 [==============================] - 20s 485ms/step - loss: 0.0445 - accuracy: 0.9878 - val_loss: 0.1265 - val_accuracy: 0.9554\n",
      "Epoch 33/100\n",
      "42/42 [==============================] - 21s 497ms/step - loss: 0.0632 - accuracy: 0.9779 - val_loss: 0.1621 - val_accuracy: 0.9485\n",
      "Epoch 33: early stopping\n"
     ]
    }
   ],
   "source": [
    "%%time\n",
    "fit = model.fit(\n",
    "      train_generator,\n",
    "      epochs=100,\n",
    "      validation_data=validation_generator,\n",
    "      callbacks=[early_stop]\n",
    ")"
   ]
  },
  {
   "cell_type": "markdown",
   "id": "bf024a95",
   "metadata": {},
   "source": [
    "# Evaluate"
   ]
  },
  {
   "cell_type": "code",
   "execution_count": 12,
   "id": "c0ff8fe3-3ae3-4ae9-8cbf-a12943fa4e66",
   "metadata": {},
   "outputs": [
    {
     "name": "stdout",
     "output_type": "stream",
     "text": [
      "16/16 [==============================] - 4s 241ms/step - loss: 0.0625 - accuracy: 0.9805\n",
      "16/16 [==============================] - 4s 249ms/step - loss: 0.1691 - accuracy: 0.9395\n",
      "16/16 [==============================] - 16s 1s/step - loss: 0.1012 - accuracy: 0.9570\n",
      "\n",
      "Train: 0.980, val: 0.939, test: 0.957,\n"
     ]
    }
   ],
   "source": [
    "train_loss, train_acc = model.evaluate(train_generator, steps=16)\n",
    "validation_loss, val_acc = model.evaluate(validation_generator, steps=16)\n",
    "test_loss, test_acc = model.evaluate(test_generator, steps=16)\n",
    "\n",
    "print('\\nTrain: %.3f, val: %.3f, test: %.3f,' % (train_acc, val_acc, test_acc))"
   ]
  },
  {
   "cell_type": "code",
   "execution_count": 13,
   "id": "7d0d3248-c31f-4664-b811-513254d785fa",
   "metadata": {},
   "outputs": [
    {
     "data": {
      "image/png": "[encoded data removed]",
      "text/plain": [
       "<Figure size 432x288 with 1 Axes>"
      ]
     },
     "metadata": {
      "needs_background": "light"
     },
     "output_type": "display_data"
    }
   ],
   "source": [
    "plt.plot(fit.history['accuracy'], label='train')\n",
    "plt.plot(fit.history['val_accuracy'], label='val')\n",
    "plt.legend()\n",
    "plt.show()"
   ]
  },
  {
   "cell_type": "code",
   "execution_count": 14,
   "id": "6de18842-04d8-4041-8ecb-2f5f162cd84d",
   "metadata": {},
   "outputs": [
    {
     "data": {
      "image/png": "[encoded data removed]",
      "text/plain": [
       "<Figure size 432x288 with 1 Axes>"
      ]
     },
     "metadata": {
      "needs_background": "light"
     },
     "output_type": "display_data"
    }
   ],
   "source": [
    "plt.plot(fit.history['loss'], label='train')\n",
    "plt.plot(fit.history['val_loss'], label='val')\n",
    "plt.legend()\n",
    "plt.show()"
   ]
  },
  {
   "cell_type": "markdown",
   "id": "267a762b",
   "metadata": {},
   "source": [
    "# Save model"
   ]
  },
  {
   "cell_type": "code",
   "execution_count": 15,
   "id": "50c09174-82ed-49c9-830c-c24eae7f0158",
   "metadata": {},
   "outputs": [],
   "source": [
    "filename = 'model.h5'\n",
    "model.save(filename)"
   ]
  },
  {
   "cell_type": "code",
   "execution_count": null,
   "id": "55072e2b-0dc2-40ed-9cf5-e67729c8ff17",
   "metadata": {},
   "outputs": [],
   "source": []
  }
 ],
 "metadata": {
  "kernelspec": {
   "display_name": "Python 3 (ipykernel)",
   "language": "python",
   "name": "python3"
  },
  "language_info": {
   "codemirror_mode": {
    "name": "ipython",
    "version": 3
   },
   "file_extension": ".py",
   "mimetype": "text/x-python",
   "name": "python",
   "nbconvert_exporter": "python",
   "pygments_lexer": "ipython3",
   "version": "3.9.7"
  }
 },
 "nbformat": 4,
 "nbformat_minor": 5
}
